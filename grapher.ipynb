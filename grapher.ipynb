{
 "cells": [
  {
   "cell_type": "code",
   "execution_count": 1,
   "metadata": {},
   "outputs": [
    {
     "ename": "KeyError",
     "evalue": "'Axes:kwdoc'",
     "output_type": "error",
     "traceback": [
      "\u001b[0;31m---------------------------------------------------------------------------\u001b[0m",
      "\u001b[0;31mValueError\u001b[0m                                Traceback (most recent call last)",
      "File \u001b[0;32m~/Gits/markov-chain-tennis/venv/lib/python3.10/site-packages/matplotlib/docstring.py:61\u001b[0m, in \u001b[0;36m_ArtistKwdocLoader.__missing__\u001b[0;34m(self, key)\u001b[0m\n\u001b[1;32m     <a href='file:///home/henriquelay/Gits/markov-chain-tennis/venv/lib/python3.10/site-packages/matplotlib/docstring.py?line=59'>60</a>\u001b[0m \u001b[39mtry\u001b[39;00m:\n\u001b[0;32m---> <a href='file:///home/henriquelay/Gits/markov-chain-tennis/venv/lib/python3.10/site-packages/matplotlib/docstring.py?line=60'>61</a>\u001b[0m     \u001b[39mcls\u001b[39m, \u001b[39m=\u001b[39m [\u001b[39mcls\u001b[39m \u001b[39mfor\u001b[39;00m \u001b[39mcls\u001b[39m \u001b[39min\u001b[39;00m _recursive_subclasses(Artist)\n\u001b[1;32m     <a href='file:///home/henriquelay/Gits/markov-chain-tennis/venv/lib/python3.10/site-packages/matplotlib/docstring.py?line=61'>62</a>\u001b[0m             \u001b[39mif\u001b[39;00m \u001b[39mcls\u001b[39m\u001b[39m.\u001b[39m\u001b[39m__name__\u001b[39m \u001b[39m==\u001b[39m name]\n\u001b[1;32m     <a href='file:///home/henriquelay/Gits/markov-chain-tennis/venv/lib/python3.10/site-packages/matplotlib/docstring.py?line=62'>63</a>\u001b[0m \u001b[39mexcept\u001b[39;00m \u001b[39mValueError\u001b[39;00m \u001b[39mas\u001b[39;00m e:\n",
      "\u001b[0;31mValueError\u001b[0m: too many values to unpack (expected 1)",
      "\nThe above exception was the direct cause of the following exception:\n",
      "\u001b[0;31mKeyError\u001b[0m                                  Traceback (most recent call last)",
      "Input \u001b[0;32mIn [1]\u001b[0m, in \u001b[0;36m<cell line: 2>\u001b[0;34m()\u001b[0m\n\u001b[1;32m      1\u001b[0m \u001b[39mimport\u001b[39;00m \u001b[39mpandas\u001b[39;00m \u001b[39mas\u001b[39;00m \u001b[39mpd\u001b[39;00m\n\u001b[0;32m----> 2\u001b[0m \u001b[39mimport\u001b[39;00m \u001b[39mseaborn\u001b[39;00m \u001b[39mas\u001b[39;00m \u001b[39msns\u001b[39;00m\n\u001b[1;32m      4\u001b[0m sns\u001b[39m.\u001b[39mset_theme(style\u001b[39m=\u001b[39m\u001b[39m\"\u001b[39m\u001b[39mwhitegrid\u001b[39m\u001b[39m\"\u001b[39m)\n\u001b[1;32m      6\u001b[0m chances \u001b[39m=\u001b[39m [\u001b[39m.7\u001b[39m, \u001b[39m.45\u001b[39m]\n",
      "File \u001b[0;32m~/Gits/markov-chain-tennis/venv/lib/python3.10/site-packages/seaborn/__init__.py:2\u001b[0m, in \u001b[0;36m<module>\u001b[0;34m\u001b[0m\n\u001b[1;32m      <a href='file:///home/henriquelay/Gits/markov-chain-tennis/venv/lib/python3.10/site-packages/seaborn/__init__.py?line=0'>1</a>\u001b[0m \u001b[39m# Import seaborn objects\u001b[39;00m\n\u001b[0;32m----> <a href='file:///home/henriquelay/Gits/markov-chain-tennis/venv/lib/python3.10/site-packages/seaborn/__init__.py?line=1'>2</a>\u001b[0m \u001b[39mfrom\u001b[39;00m \u001b[39m.\u001b[39;00m\u001b[39mrcmod\u001b[39;00m \u001b[39mimport\u001b[39;00m \u001b[39m*\u001b[39m  \u001b[39m# noqa: F401,F403\u001b[39;00m\n\u001b[1;32m      <a href='file:///home/henriquelay/Gits/markov-chain-tennis/venv/lib/python3.10/site-packages/seaborn/__init__.py?line=2'>3</a>\u001b[0m \u001b[39mfrom\u001b[39;00m \u001b[39m.\u001b[39;00m\u001b[39mutils\u001b[39;00m \u001b[39mimport\u001b[39;00m \u001b[39m*\u001b[39m  \u001b[39m# noqa: F401,F403\u001b[39;00m\n\u001b[1;32m      <a href='file:///home/henriquelay/Gits/markov-chain-tennis/venv/lib/python3.10/site-packages/seaborn/__init__.py?line=3'>4</a>\u001b[0m \u001b[39mfrom\u001b[39;00m \u001b[39m.\u001b[39;00m\u001b[39mpalettes\u001b[39;00m \u001b[39mimport\u001b[39;00m \u001b[39m*\u001b[39m  \u001b[39m# noqa: F401,F403\u001b[39;00m\n",
      "File \u001b[0;32m~/Gits/markov-chain-tennis/venv/lib/python3.10/site-packages/seaborn/rcmod.py:7\u001b[0m, in \u001b[0;36m<module>\u001b[0;34m\u001b[0m\n\u001b[1;32m      <a href='file:///home/henriquelay/Gits/markov-chain-tennis/venv/lib/python3.10/site-packages/seaborn/rcmod.py?line=4'>5</a>\u001b[0m \u001b[39mimport\u001b[39;00m \u001b[39mmatplotlib\u001b[39;00m \u001b[39mas\u001b[39;00m \u001b[39mmpl\u001b[39;00m\n\u001b[1;32m      <a href='file:///home/henriquelay/Gits/markov-chain-tennis/venv/lib/python3.10/site-packages/seaborn/rcmod.py?line=5'>6</a>\u001b[0m \u001b[39mfrom\u001b[39;00m \u001b[39mcycler\u001b[39;00m \u001b[39mimport\u001b[39;00m cycler\n\u001b[0;32m----> <a href='file:///home/henriquelay/Gits/markov-chain-tennis/venv/lib/python3.10/site-packages/seaborn/rcmod.py?line=6'>7</a>\u001b[0m \u001b[39mfrom\u001b[39;00m \u001b[39m.\u001b[39;00m \u001b[39mimport\u001b[39;00m palettes\n\u001b[1;32m     <a href='file:///home/henriquelay/Gits/markov-chain-tennis/venv/lib/python3.10/site-packages/seaborn/rcmod.py?line=9'>10</a>\u001b[0m __all__ \u001b[39m=\u001b[39m [\u001b[39m\"\u001b[39m\u001b[39mset_theme\u001b[39m\u001b[39m\"\u001b[39m, \u001b[39m\"\u001b[39m\u001b[39mset\u001b[39m\u001b[39m\"\u001b[39m, \u001b[39m\"\u001b[39m\u001b[39mreset_defaults\u001b[39m\u001b[39m\"\u001b[39m, \u001b[39m\"\u001b[39m\u001b[39mreset_orig\u001b[39m\u001b[39m\"\u001b[39m,\n\u001b[1;32m     <a href='file:///home/henriquelay/Gits/markov-chain-tennis/venv/lib/python3.10/site-packages/seaborn/rcmod.py?line=10'>11</a>\u001b[0m            \u001b[39m\"\u001b[39m\u001b[39maxes_style\u001b[39m\u001b[39m\"\u001b[39m, \u001b[39m\"\u001b[39m\u001b[39mset_style\u001b[39m\u001b[39m\"\u001b[39m, \u001b[39m\"\u001b[39m\u001b[39mplotting_context\u001b[39m\u001b[39m\"\u001b[39m, \u001b[39m\"\u001b[39m\u001b[39mset_context\u001b[39m\u001b[39m\"\u001b[39m,\n\u001b[1;32m     <a href='file:///home/henriquelay/Gits/markov-chain-tennis/venv/lib/python3.10/site-packages/seaborn/rcmod.py?line=11'>12</a>\u001b[0m            \u001b[39m\"\u001b[39m\u001b[39mset_palette\u001b[39m\u001b[39m\"\u001b[39m]\n\u001b[1;32m     <a href='file:///home/henriquelay/Gits/markov-chain-tennis/venv/lib/python3.10/site-packages/seaborn/rcmod.py?line=14'>15</a>\u001b[0m _style_keys \u001b[39m=\u001b[39m [\n\u001b[1;32m     <a href='file:///home/henriquelay/Gits/markov-chain-tennis/venv/lib/python3.10/site-packages/seaborn/rcmod.py?line=15'>16</a>\u001b[0m \n\u001b[1;32m     <a href='file:///home/henriquelay/Gits/markov-chain-tennis/venv/lib/python3.10/site-packages/seaborn/rcmod.py?line=16'>17</a>\u001b[0m     \u001b[39m\"\u001b[39m\u001b[39maxes.facecolor\u001b[39m\u001b[39m\"\u001b[39m,\n\u001b[0;32m   (...)\u001b[0m\n\u001b[1;32m     <a href='file:///home/henriquelay/Gits/markov-chain-tennis/venv/lib/python3.10/site-packages/seaborn/rcmod.py?line=51'>52</a>\u001b[0m \n\u001b[1;32m     <a href='file:///home/henriquelay/Gits/markov-chain-tennis/venv/lib/python3.10/site-packages/seaborn/rcmod.py?line=52'>53</a>\u001b[0m ]\n",
      "File \u001b[0;32m~/Gits/markov-chain-tennis/venv/lib/python3.10/site-packages/seaborn/palettes.py:9\u001b[0m, in \u001b[0;36m<module>\u001b[0;34m\u001b[0m\n\u001b[1;32m      <a href='file:///home/henriquelay/Gits/markov-chain-tennis/venv/lib/python3.10/site-packages/seaborn/palettes.py?line=4'>5</a>\u001b[0m \u001b[39mimport\u001b[39;00m \u001b[39mmatplotlib\u001b[39;00m \u001b[39mas\u001b[39;00m \u001b[39mmpl\u001b[39;00m\n\u001b[1;32m      <a href='file:///home/henriquelay/Gits/markov-chain-tennis/venv/lib/python3.10/site-packages/seaborn/palettes.py?line=6'>7</a>\u001b[0m \u001b[39mfrom\u001b[39;00m \u001b[39m.\u001b[39;00m\u001b[39mexternal\u001b[39;00m \u001b[39mimport\u001b[39;00m husl\n\u001b[0;32m----> <a href='file:///home/henriquelay/Gits/markov-chain-tennis/venv/lib/python3.10/site-packages/seaborn/palettes.py?line=8'>9</a>\u001b[0m \u001b[39mfrom\u001b[39;00m \u001b[39m.\u001b[39;00m\u001b[39mutils\u001b[39;00m \u001b[39mimport\u001b[39;00m desaturate, get_color_cycle\n\u001b[1;32m     <a href='file:///home/henriquelay/Gits/markov-chain-tennis/venv/lib/python3.10/site-packages/seaborn/palettes.py?line=9'>10</a>\u001b[0m \u001b[39mfrom\u001b[39;00m \u001b[39m.\u001b[39;00m\u001b[39mcolors\u001b[39;00m \u001b[39mimport\u001b[39;00m xkcd_rgb, crayons\n\u001b[1;32m     <a href='file:///home/henriquelay/Gits/markov-chain-tennis/venv/lib/python3.10/site-packages/seaborn/palettes.py?line=12'>13</a>\u001b[0m __all__ \u001b[39m=\u001b[39m [\u001b[39m\"\u001b[39m\u001b[39mcolor_palette\u001b[39m\u001b[39m\"\u001b[39m, \u001b[39m\"\u001b[39m\u001b[39mhls_palette\u001b[39m\u001b[39m\"\u001b[39m, \u001b[39m\"\u001b[39m\u001b[39mhusl_palette\u001b[39m\u001b[39m\"\u001b[39m, \u001b[39m\"\u001b[39m\u001b[39mmpl_palette\u001b[39m\u001b[39m\"\u001b[39m,\n\u001b[1;32m     <a href='file:///home/henriquelay/Gits/markov-chain-tennis/venv/lib/python3.10/site-packages/seaborn/palettes.py?line=13'>14</a>\u001b[0m            \u001b[39m\"\u001b[39m\u001b[39mdark_palette\u001b[39m\u001b[39m\"\u001b[39m, \u001b[39m\"\u001b[39m\u001b[39mlight_palette\u001b[39m\u001b[39m\"\u001b[39m, \u001b[39m\"\u001b[39m\u001b[39mdiverging_palette\u001b[39m\u001b[39m\"\u001b[39m,\n\u001b[1;32m     <a href='file:///home/henriquelay/Gits/markov-chain-tennis/venv/lib/python3.10/site-packages/seaborn/palettes.py?line=14'>15</a>\u001b[0m            \u001b[39m\"\u001b[39m\u001b[39mblend_palette\u001b[39m\u001b[39m\"\u001b[39m, \u001b[39m\"\u001b[39m\u001b[39mxkcd_palette\u001b[39m\u001b[39m\"\u001b[39m, \u001b[39m\"\u001b[39m\u001b[39mcrayon_palette\u001b[39m\u001b[39m\"\u001b[39m,\n\u001b[1;32m     <a href='file:///home/henriquelay/Gits/markov-chain-tennis/venv/lib/python3.10/site-packages/seaborn/palettes.py?line=15'>16</a>\u001b[0m            \u001b[39m\"\u001b[39m\u001b[39mcubehelix_palette\u001b[39m\u001b[39m\"\u001b[39m, \u001b[39m\"\u001b[39m\u001b[39mset_color_codes\u001b[39m\u001b[39m\"\u001b[39m]\n",
      "File \u001b[0;32m~/Gits/markov-chain-tennis/venv/lib/python3.10/site-packages/seaborn/utils.py:14\u001b[0m, in \u001b[0;36m<module>\u001b[0;34m\u001b[0m\n\u001b[1;32m     <a href='file:///home/henriquelay/Gits/markov-chain-tennis/venv/lib/python3.10/site-packages/seaborn/utils.py?line=11'>12</a>\u001b[0m \u001b[39mimport\u001b[39;00m \u001b[39mmatplotlib\u001b[39;00m \u001b[39mas\u001b[39;00m \u001b[39mmpl\u001b[39;00m\n\u001b[1;32m     <a href='file:///home/henriquelay/Gits/markov-chain-tennis/venv/lib/python3.10/site-packages/seaborn/utils.py?line=12'>13</a>\u001b[0m \u001b[39mimport\u001b[39;00m \u001b[39mmatplotlib\u001b[39;00m\u001b[39m.\u001b[39;00m\u001b[39mcolors\u001b[39;00m \u001b[39mas\u001b[39;00m \u001b[39mmplcol\u001b[39;00m\n\u001b[0;32m---> <a href='file:///home/henriquelay/Gits/markov-chain-tennis/venv/lib/python3.10/site-packages/seaborn/utils.py?line=13'>14</a>\u001b[0m \u001b[39mimport\u001b[39;00m \u001b[39mmatplotlib\u001b[39;00m\u001b[39m.\u001b[39;00m\u001b[39mpyplot\u001b[39;00m \u001b[39mas\u001b[39;00m \u001b[39mplt\u001b[39;00m\n\u001b[1;32m     <a href='file:///home/henriquelay/Gits/markov-chain-tennis/venv/lib/python3.10/site-packages/seaborn/utils.py?line=14'>15</a>\u001b[0m \u001b[39mfrom\u001b[39;00m \u001b[39mmatplotlib\u001b[39;00m\u001b[39m.\u001b[39;00m\u001b[39mcbook\u001b[39;00m \u001b[39mimport\u001b[39;00m normalize_kwargs\n\u001b[1;32m     <a href='file:///home/henriquelay/Gits/markov-chain-tennis/venv/lib/python3.10/site-packages/seaborn/utils.py?line=17'>18</a>\u001b[0m __all__ \u001b[39m=\u001b[39m [\u001b[39m\"\u001b[39m\u001b[39mdesaturate\u001b[39m\u001b[39m\"\u001b[39m, \u001b[39m\"\u001b[39m\u001b[39msaturate\u001b[39m\u001b[39m\"\u001b[39m, \u001b[39m\"\u001b[39m\u001b[39mset_hls_values\u001b[39m\u001b[39m\"\u001b[39m, \u001b[39m\"\u001b[39m\u001b[39mmove_legend\u001b[39m\u001b[39m\"\u001b[39m,\n\u001b[1;32m     <a href='file:///home/henriquelay/Gits/markov-chain-tennis/venv/lib/python3.10/site-packages/seaborn/utils.py?line=18'>19</a>\u001b[0m            \u001b[39m\"\u001b[39m\u001b[39mdespine\u001b[39m\u001b[39m\"\u001b[39m, \u001b[39m\"\u001b[39m\u001b[39mget_dataset_names\u001b[39m\u001b[39m\"\u001b[39m, \u001b[39m\"\u001b[39m\u001b[39mget_data_home\u001b[39m\u001b[39m\"\u001b[39m, \u001b[39m\"\u001b[39m\u001b[39mload_dataset\u001b[39m\u001b[39m\"\u001b[39m]\n",
      "File \u001b[0;32m~/Gits/markov-chain-tennis/venv/lib/python3.10/site-packages/matplotlib/pyplot.py:57\u001b[0m, in \u001b[0;36m<module>\u001b[0;34m\u001b[0m\n\u001b[1;32m     <a href='file:///home/henriquelay/Gits/markov-chain-tennis/venv/lib/python3.10/site-packages/matplotlib/pyplot.py?line=54'>55</a>\u001b[0m \u001b[39mfrom\u001b[39;00m \u001b[39mmatplotlib\u001b[39;00m \u001b[39mimport\u001b[39;00m docstring\n\u001b[1;32m     <a href='file:///home/henriquelay/Gits/markov-chain-tennis/venv/lib/python3.10/site-packages/matplotlib/pyplot.py?line=55'>56</a>\u001b[0m \u001b[39mfrom\u001b[39;00m \u001b[39mmatplotlib\u001b[39;00m\u001b[39m.\u001b[39;00m\u001b[39mbackend_bases\u001b[39;00m \u001b[39mimport\u001b[39;00m FigureCanvasBase, MouseButton\n\u001b[0;32m---> <a href='file:///home/henriquelay/Gits/markov-chain-tennis/venv/lib/python3.10/site-packages/matplotlib/pyplot.py?line=56'>57</a>\u001b[0m \u001b[39mfrom\u001b[39;00m \u001b[39mmatplotlib\u001b[39;00m\u001b[39m.\u001b[39;00m\u001b[39mfigure\u001b[39;00m \u001b[39mimport\u001b[39;00m Figure, figaspect\n\u001b[1;32m     <a href='file:///home/henriquelay/Gits/markov-chain-tennis/venv/lib/python3.10/site-packages/matplotlib/pyplot.py?line=57'>58</a>\u001b[0m \u001b[39mfrom\u001b[39;00m \u001b[39mmatplotlib\u001b[39;00m\u001b[39m.\u001b[39;00m\u001b[39mgridspec\u001b[39;00m \u001b[39mimport\u001b[39;00m GridSpec, SubplotSpec\n\u001b[1;32m     <a href='file:///home/henriquelay/Gits/markov-chain-tennis/venv/lib/python3.10/site-packages/matplotlib/pyplot.py?line=58'>59</a>\u001b[0m \u001b[39mfrom\u001b[39;00m \u001b[39mmatplotlib\u001b[39;00m \u001b[39mimport\u001b[39;00m rcParams, rcParamsDefault, get_backend, rcParamsOrig\n",
      "File \u001b[0;32m~/Gits/markov-chain-tennis/venv/lib/python3.10/site-packages/matplotlib/figure.py:25\u001b[0m, in \u001b[0;36m<module>\u001b[0;34m\u001b[0m\n\u001b[1;32m     <a href='file:///home/henriquelay/Gits/markov-chain-tennis/venv/lib/python3.10/site-packages/matplotlib/figure.py?line=21'>22</a>\u001b[0m \u001b[39mimport\u001b[39;00m \u001b[39mnumpy\u001b[39;00m \u001b[39mas\u001b[39;00m \u001b[39mnp\u001b[39;00m\n\u001b[1;32m     <a href='file:///home/henriquelay/Gits/markov-chain-tennis/venv/lib/python3.10/site-packages/matplotlib/figure.py?line=23'>24</a>\u001b[0m \u001b[39mimport\u001b[39;00m \u001b[39mmatplotlib\u001b[39;00m \u001b[39mas\u001b[39;00m \u001b[39mmpl\u001b[39;00m\n\u001b[0;32m---> <a href='file:///home/henriquelay/Gits/markov-chain-tennis/venv/lib/python3.10/site-packages/matplotlib/figure.py?line=24'>25</a>\u001b[0m \u001b[39mfrom\u001b[39;00m \u001b[39mmatplotlib\u001b[39;00m \u001b[39mimport\u001b[39;00m _blocking_input, docstring, projections\n\u001b[1;32m     <a href='file:///home/henriquelay/Gits/markov-chain-tennis/venv/lib/python3.10/site-packages/matplotlib/figure.py?line=25'>26</a>\u001b[0m \u001b[39mfrom\u001b[39;00m \u001b[39mmatplotlib\u001b[39;00m\u001b[39m.\u001b[39;00m\u001b[39martist\u001b[39;00m \u001b[39mimport\u001b[39;00m (\n\u001b[1;32m     <a href='file:///home/henriquelay/Gits/markov-chain-tennis/venv/lib/python3.10/site-packages/matplotlib/figure.py?line=26'>27</a>\u001b[0m     Artist, allow_rasterization, _finalize_rasterization)\n\u001b[1;32m     <a href='file:///home/henriquelay/Gits/markov-chain-tennis/venv/lib/python3.10/site-packages/matplotlib/figure.py?line=27'>28</a>\u001b[0m \u001b[39mfrom\u001b[39;00m \u001b[39mmatplotlib\u001b[39;00m\u001b[39m.\u001b[39;00m\u001b[39mbackend_bases\u001b[39;00m \u001b[39mimport\u001b[39;00m (\n\u001b[1;32m     <a href='file:///home/henriquelay/Gits/markov-chain-tennis/venv/lib/python3.10/site-packages/matplotlib/figure.py?line=28'>29</a>\u001b[0m     FigureCanvasBase, NonGuiException, MouseButton, _get_renderer)\n",
      "File \u001b[0;32m~/Gits/markov-chain-tennis/venv/lib/python3.10/site-packages/matplotlib/projections/__init__.py:55\u001b[0m, in \u001b[0;36m<module>\u001b[0;34m\u001b[0m\n\u001b[1;32m      <a href='file:///home/henriquelay/Gits/markov-chain-tennis/venv/lib/python3.10/site-packages/matplotlib/projections/__init__.py?line=0'>1</a>\u001b[0m \u001b[39m\"\"\"\u001b[39;00m\n\u001b[1;32m      <a href='file:///home/henriquelay/Gits/markov-chain-tennis/venv/lib/python3.10/site-packages/matplotlib/projections/__init__.py?line=1'>2</a>\u001b[0m \u001b[39mNon-separable transforms that map from data space to screen space.\u001b[39;00m\n\u001b[1;32m      <a href='file:///home/henriquelay/Gits/markov-chain-tennis/venv/lib/python3.10/site-packages/matplotlib/projections/__init__.py?line=2'>3</a>\u001b[0m \n\u001b[0;32m   (...)\u001b[0m\n\u001b[1;32m     <a href='file:///home/henriquelay/Gits/markov-chain-tennis/venv/lib/python3.10/site-packages/matplotlib/projections/__init__.py?line=51'>52</a>\u001b[0m \u001b[39m`matplotlib.projections.polar` may also be of interest.\u001b[39;00m\n\u001b[1;32m     <a href='file:///home/henriquelay/Gits/markov-chain-tennis/venv/lib/python3.10/site-packages/matplotlib/projections/__init__.py?line=52'>53</a>\u001b[0m \u001b[39m\"\"\"\u001b[39;00m\n\u001b[0;32m---> <a href='file:///home/henriquelay/Gits/markov-chain-tennis/venv/lib/python3.10/site-packages/matplotlib/projections/__init__.py?line=54'>55</a>\u001b[0m \u001b[39mfrom\u001b[39;00m \u001b[39m.\u001b[39;00m\u001b[39m.\u001b[39;00m \u001b[39mimport\u001b[39;00m axes, docstring\n\u001b[1;32m     <a href='file:///home/henriquelay/Gits/markov-chain-tennis/venv/lib/python3.10/site-packages/matplotlib/projections/__init__.py?line=55'>56</a>\u001b[0m \u001b[39mfrom\u001b[39;00m \u001b[39m.\u001b[39;00m\u001b[39mgeo\u001b[39;00m \u001b[39mimport\u001b[39;00m AitoffAxes, HammerAxes, LambertAxes, MollweideAxes\n\u001b[1;32m     <a href='file:///home/henriquelay/Gits/markov-chain-tennis/venv/lib/python3.10/site-packages/matplotlib/projections/__init__.py?line=56'>57</a>\u001b[0m \u001b[39mfrom\u001b[39;00m \u001b[39m.\u001b[39;00m\u001b[39mpolar\u001b[39;00m \u001b[39mimport\u001b[39;00m PolarAxes\n",
      "File \u001b[0;32m~/Gits/markov-chain-tennis/venv/lib/python3.10/site-packages/matplotlib/axes/__init__.py:1\u001b[0m, in \u001b[0;36m<module>\u001b[0;34m\u001b[0m\n\u001b[0;32m----> <a href='file:///home/henriquelay/Gits/markov-chain-tennis/venv/lib/python3.10/site-packages/matplotlib/axes/__init__.py?line=0'>1</a>\u001b[0m \u001b[39mfrom\u001b[39;00m \u001b[39m.\u001b[39;00m\u001b[39m_subplots\u001b[39;00m \u001b[39mimport\u001b[39;00m \u001b[39m*\u001b[39m\n\u001b[1;32m      <a href='file:///home/henriquelay/Gits/markov-chain-tennis/venv/lib/python3.10/site-packages/matplotlib/axes/__init__.py?line=1'>2</a>\u001b[0m \u001b[39mfrom\u001b[39;00m \u001b[39m.\u001b[39;00m\u001b[39m_axes\u001b[39;00m \u001b[39mimport\u001b[39;00m \u001b[39m*\u001b[39m\n",
      "File \u001b[0;32m~/Gits/markov-chain-tennis/venv/lib/python3.10/site-packages/matplotlib/axes/_subplots.py:3\u001b[0m, in \u001b[0;36m<module>\u001b[0;34m\u001b[0m\n\u001b[1;32m      <a href='file:///home/henriquelay/Gits/markov-chain-tennis/venv/lib/python3.10/site-packages/matplotlib/axes/_subplots.py?line=0'>1</a>\u001b[0m \u001b[39mimport\u001b[39;00m \u001b[39mmatplotlib\u001b[39;00m \u001b[39mas\u001b[39;00m \u001b[39mmpl\u001b[39;00m\n\u001b[1;32m      <a href='file:///home/henriquelay/Gits/markov-chain-tennis/venv/lib/python3.10/site-packages/matplotlib/axes/_subplots.py?line=1'>2</a>\u001b[0m \u001b[39mfrom\u001b[39;00m \u001b[39mmatplotlib\u001b[39;00m \u001b[39mimport\u001b[39;00m _api, cbook\n\u001b[0;32m----> <a href='file:///home/henriquelay/Gits/markov-chain-tennis/venv/lib/python3.10/site-packages/matplotlib/axes/_subplots.py?line=2'>3</a>\u001b[0m \u001b[39mfrom\u001b[39;00m \u001b[39mmatplotlib\u001b[39;00m\u001b[39m.\u001b[39;00m\u001b[39maxes\u001b[39;00m\u001b[39m.\u001b[39;00m\u001b[39m_axes\u001b[39;00m \u001b[39mimport\u001b[39;00m Axes\n\u001b[1;32m      <a href='file:///home/henriquelay/Gits/markov-chain-tennis/venv/lib/python3.10/site-packages/matplotlib/axes/_subplots.py?line=3'>4</a>\u001b[0m \u001b[39mfrom\u001b[39;00m \u001b[39mmatplotlib\u001b[39;00m\u001b[39m.\u001b[39;00m\u001b[39mgridspec\u001b[39;00m \u001b[39mimport\u001b[39;00m GridSpec, SubplotSpec\n\u001b[1;32m      <a href='file:///home/henriquelay/Gits/markov-chain-tennis/venv/lib/python3.10/site-packages/matplotlib/axes/_subplots.py?line=6'>7</a>\u001b[0m \u001b[39mclass\u001b[39;00m \u001b[39mSubplotBase\u001b[39;00m:\n",
      "File \u001b[0;32m~/Gits/markov-chain-tennis/venv/lib/python3.10/site-packages/matplotlib/axes/_axes.py:47\u001b[0m, in \u001b[0;36m<module>\u001b[0;34m\u001b[0m\n\u001b[1;32m     <a href='file:///home/henriquelay/Gits/markov-chain-tennis/venv/lib/python3.10/site-packages/matplotlib/axes/_axes.py?line=38'>39</a>\u001b[0m _log \u001b[39m=\u001b[39m logging\u001b[39m.\u001b[39mgetLogger(\u001b[39m__name__\u001b[39m)\n\u001b[1;32m     <a href='file:///home/henriquelay/Gits/markov-chain-tennis/venv/lib/python3.10/site-packages/matplotlib/axes/_axes.py?line=41'>42</a>\u001b[0m \u001b[39m# The axes module contains all the wrappers to plotting functions.\u001b[39;00m\n\u001b[1;32m     <a href='file:///home/henriquelay/Gits/markov-chain-tennis/venv/lib/python3.10/site-packages/matplotlib/axes/_axes.py?line=42'>43</a>\u001b[0m \u001b[39m# All the other methods should go in the _AxesBase class.\u001b[39;00m\n\u001b[1;32m     <a href='file:///home/henriquelay/Gits/markov-chain-tennis/venv/lib/python3.10/site-packages/matplotlib/axes/_axes.py?line=45'>46</a>\u001b[0m \u001b[39m@docstring\u001b[39;49m\u001b[39m.\u001b[39;49minterpd\n\u001b[0;32m---> <a href='file:///home/henriquelay/Gits/markov-chain-tennis/venv/lib/python3.10/site-packages/matplotlib/axes/_axes.py?line=46'>47</a>\u001b[0m \u001b[39mclass\u001b[39;49;00m \u001b[39mAxes\u001b[39;49;00m(_AxesBase):\n\u001b[1;32m     <a href='file:///home/henriquelay/Gits/markov-chain-tennis/venv/lib/python3.10/site-packages/matplotlib/axes/_axes.py?line=47'>48</a>\u001b[0m     \u001b[39m\"\"\"\u001b[39;49;00m\n\u001b[1;32m     <a href='file:///home/henriquelay/Gits/markov-chain-tennis/venv/lib/python3.10/site-packages/matplotlib/axes/_axes.py?line=48'>49</a>\u001b[0m \u001b[39m    The `Axes` contains most of the figure elements: `~.axis.Axis`,\u001b[39;49;00m\n\u001b[1;32m     <a href='file:///home/henriquelay/Gits/markov-chain-tennis/venv/lib/python3.10/site-packages/matplotlib/axes/_axes.py?line=49'>50</a>\u001b[0m \u001b[39m    `~.axis.Tick`, `~.lines.Line2D`, `~.text.Text`, `~.patches.Polygon`, etc.,\u001b[39;49;00m\n\u001b[0;32m   (...)\u001b[0m\n\u001b[1;32m     <a href='file:///home/henriquelay/Gits/markov-chain-tennis/venv/lib/python3.10/site-packages/matplotlib/axes/_axes.py?line=63'>64</a>\u001b[0m \n\u001b[1;32m     <a href='file:///home/henriquelay/Gits/markov-chain-tennis/venv/lib/python3.10/site-packages/matplotlib/axes/_axes.py?line=64'>65</a>\u001b[0m \u001b[39m    \"\"\"\u001b[39;49;00m\n\u001b[1;32m     <a href='file:///home/henriquelay/Gits/markov-chain-tennis/venv/lib/python3.10/site-packages/matplotlib/axes/_axes.py?line=65'>66</a>\u001b[0m     \u001b[39m### Labelling, legend and texts\u001b[39;49;00m\n",
      "File \u001b[0;32m~/Gits/markov-chain-tennis/venv/lib/python3.10/site-packages/matplotlib/docstring.py:86\u001b[0m, in \u001b[0;36m_ArtistPropertiesSubstitution.__call__\u001b[0;34m(self, obj)\u001b[0m\n\u001b[1;32m     <a href='file:///home/henriquelay/Gits/markov-chain-tennis/venv/lib/python3.10/site-packages/matplotlib/docstring.py?line=83'>84</a>\u001b[0m \u001b[39msuper\u001b[39m()\u001b[39m.\u001b[39m\u001b[39m__call__\u001b[39m(obj)\n\u001b[1;32m     <a href='file:///home/henriquelay/Gits/markov-chain-tennis/venv/lib/python3.10/site-packages/matplotlib/docstring.py?line=84'>85</a>\u001b[0m \u001b[39mif\u001b[39;00m \u001b[39misinstance\u001b[39m(obj, \u001b[39mtype\u001b[39m) \u001b[39mand\u001b[39;00m obj\u001b[39m.\u001b[39m\u001b[39m__init__\u001b[39m \u001b[39m!=\u001b[39m \u001b[39mobject\u001b[39m\u001b[39m.\u001b[39m\u001b[39m__init__\u001b[39m:\n\u001b[0;32m---> <a href='file:///home/henriquelay/Gits/markov-chain-tennis/venv/lib/python3.10/site-packages/matplotlib/docstring.py?line=85'>86</a>\u001b[0m     \u001b[39mself\u001b[39;49m(obj\u001b[39m.\u001b[39;49m\u001b[39m__init__\u001b[39;49m)\n\u001b[1;32m     <a href='file:///home/henriquelay/Gits/markov-chain-tennis/venv/lib/python3.10/site-packages/matplotlib/docstring.py?line=86'>87</a>\u001b[0m \u001b[39mreturn\u001b[39;00m obj\n",
      "File \u001b[0;32m~/Gits/markov-chain-tennis/venv/lib/python3.10/site-packages/matplotlib/docstring.py:84\u001b[0m, in \u001b[0;36m_ArtistPropertiesSubstitution.__call__\u001b[0;34m(self, obj)\u001b[0m\n\u001b[1;32m     <a href='file:///home/henriquelay/Gits/markov-chain-tennis/venv/lib/python3.10/site-packages/matplotlib/docstring.py?line=82'>83</a>\u001b[0m \u001b[39mdef\u001b[39;00m \u001b[39m__call__\u001b[39m(\u001b[39mself\u001b[39m, obj):\n\u001b[0;32m---> <a href='file:///home/henriquelay/Gits/markov-chain-tennis/venv/lib/python3.10/site-packages/matplotlib/docstring.py?line=83'>84</a>\u001b[0m     \u001b[39msuper\u001b[39;49m()\u001b[39m.\u001b[39;49m\u001b[39m__call__\u001b[39;49m(obj)\n\u001b[1;32m     <a href='file:///home/henriquelay/Gits/markov-chain-tennis/venv/lib/python3.10/site-packages/matplotlib/docstring.py?line=84'>85</a>\u001b[0m     \u001b[39mif\u001b[39;00m \u001b[39misinstance\u001b[39m(obj, \u001b[39mtype\u001b[39m) \u001b[39mand\u001b[39;00m obj\u001b[39m.\u001b[39m\u001b[39m__init__\u001b[39m \u001b[39m!=\u001b[39m \u001b[39mobject\u001b[39m\u001b[39m.\u001b[39m\u001b[39m__init__\u001b[39m:\n\u001b[1;32m     <a href='file:///home/henriquelay/Gits/markov-chain-tennis/venv/lib/python3.10/site-packages/matplotlib/docstring.py?line=85'>86</a>\u001b[0m         \u001b[39mself\u001b[39m(obj\u001b[39m.\u001b[39m\u001b[39m__init__\u001b[39m)\n",
      "File \u001b[0;32m~/Gits/markov-chain-tennis/venv/lib/python3.10/site-packages/matplotlib/docstring.py:38\u001b[0m, in \u001b[0;36mSubstitution.__call__\u001b[0;34m(self, func)\u001b[0m\n\u001b[1;32m     <a href='file:///home/henriquelay/Gits/markov-chain-tennis/venv/lib/python3.10/site-packages/matplotlib/docstring.py?line=35'>36</a>\u001b[0m \u001b[39mdef\u001b[39;00m \u001b[39m__call__\u001b[39m(\u001b[39mself\u001b[39m, func):\n\u001b[1;32m     <a href='file:///home/henriquelay/Gits/markov-chain-tennis/venv/lib/python3.10/site-packages/matplotlib/docstring.py?line=36'>37</a>\u001b[0m     \u001b[39mif\u001b[39;00m func\u001b[39m.\u001b[39m\u001b[39m__doc__\u001b[39m:\n\u001b[0;32m---> <a href='file:///home/henriquelay/Gits/markov-chain-tennis/venv/lib/python3.10/site-packages/matplotlib/docstring.py?line=37'>38</a>\u001b[0m         func\u001b[39m.\u001b[39m\u001b[39m__doc__\u001b[39m \u001b[39m=\u001b[39m inspect\u001b[39m.\u001b[39;49mcleandoc(func\u001b[39m.\u001b[39;49m\u001b[39m__doc__\u001b[39;49m) \u001b[39m%\u001b[39;49m \u001b[39mself\u001b[39;49m\u001b[39m.\u001b[39;49mparams\n\u001b[1;32m     <a href='file:///home/henriquelay/Gits/markov-chain-tennis/venv/lib/python3.10/site-packages/matplotlib/docstring.py?line=38'>39</a>\u001b[0m     \u001b[39mreturn\u001b[39;00m func\n",
      "File \u001b[0;32m~/Gits/markov-chain-tennis/venv/lib/python3.10/site-packages/matplotlib/docstring.py:64\u001b[0m, in \u001b[0;36m_ArtistKwdocLoader.__missing__\u001b[0;34m(self, key)\u001b[0m\n\u001b[1;32m     <a href='file:///home/henriquelay/Gits/markov-chain-tennis/venv/lib/python3.10/site-packages/matplotlib/docstring.py?line=60'>61</a>\u001b[0m     \u001b[39mcls\u001b[39m, \u001b[39m=\u001b[39m [\u001b[39mcls\u001b[39m \u001b[39mfor\u001b[39;00m \u001b[39mcls\u001b[39m \u001b[39min\u001b[39;00m _recursive_subclasses(Artist)\n\u001b[1;32m     <a href='file:///home/henriquelay/Gits/markov-chain-tennis/venv/lib/python3.10/site-packages/matplotlib/docstring.py?line=61'>62</a>\u001b[0m             \u001b[39mif\u001b[39;00m \u001b[39mcls\u001b[39m\u001b[39m.\u001b[39m\u001b[39m__name__\u001b[39m \u001b[39m==\u001b[39m name]\n\u001b[1;32m     <a href='file:///home/henriquelay/Gits/markov-chain-tennis/venv/lib/python3.10/site-packages/matplotlib/docstring.py?line=62'>63</a>\u001b[0m \u001b[39mexcept\u001b[39;00m \u001b[39mValueError\u001b[39;00m \u001b[39mas\u001b[39;00m e:\n\u001b[0;32m---> <a href='file:///home/henriquelay/Gits/markov-chain-tennis/venv/lib/python3.10/site-packages/matplotlib/docstring.py?line=63'>64</a>\u001b[0m     \u001b[39mraise\u001b[39;00m \u001b[39mKeyError\u001b[39;00m(key) \u001b[39mfrom\u001b[39;00m \u001b[39me\u001b[39;00m\n\u001b[1;32m     <a href='file:///home/henriquelay/Gits/markov-chain-tennis/venv/lib/python3.10/site-packages/matplotlib/docstring.py?line=64'>65</a>\u001b[0m \u001b[39mreturn\u001b[39;00m \u001b[39mself\u001b[39m\u001b[39m.\u001b[39msetdefault(key, kwdoc(\u001b[39mcls\u001b[39m))\n",
      "\u001b[0;31mKeyError\u001b[0m: 'Axes:kwdoc'"
     ]
    }
   ],
   "source": [
    "import pandas as pd\n",
    "import seaborn as sns\n",
    "\n",
    "sns.set_theme(style=\"whitegrid\")\n",
    "\n",
    "chances = [.7, .45]"
   ]
  },
  {
   "cell_type": "code",
   "execution_count": null,
   "metadata": {},
   "outputs": [],
   "source": [
    "df = pd.read_csv('out.csv')\n",
    "# Splitting df between \"advantage\" (high chance to win) runs and \"fair\" (~50% chance to win) runs\n",
    "grouped_df = df.groupby(df.P_chance)"
   ]
  },
  {
   "cell_type": "markdown",
   "metadata": {},
   "source": [
    "> Ao final das suas simulações, com base nos logs gerados (vamos denominá-los datasets a partir de agora) você deverá analisar os datasets e responder às seguintes perguntas:  \n",
    "> * Qual a probabilidade do Jogador A/B vencerem as Partidas 1 e a Partidas 2? Para responder, considere $Xi$ uma VA que representa o número de vitórias do jogador $i$ em cada caso, e que nosso espaço amostral contem 3 partidas. Mostre uma análise estatística baseada em média e desvio padrão em cada caso.  \n",
    "Com base no dataset, a probabilidade A vencer B é de $\\frac{\\overrule{tot\\_sets\\_P}}{tot\\_amostra} $. Selecionando 3 aleatórias, temos que:  \n"
   ]
  },
  {
   "cell_type": "code",
   "execution_count": null,
   "metadata": {},
   "outputs": [],
   "source": [
    "def median_with_sample_size(sample_size: int, df, field):\n",
    "    return df[field].sample(n=sample_size).sum()/sample_size"
   ]
  },
  {
   "cell_type": "code",
   "execution_count": null,
   "metadata": {},
   "outputs": [],
   "source": [
    "# Partida 1\n",
    "print(median_with_sample_size(3, df_advantage, \"tot_sets_P\"))\n",
    "# Partida 2\n",
    "print(median_with_sample_size(3, df_fair, \"tot_sets_P\"))"
   ]
  },
  {
   "cell_type": "markdown",
   "metadata": {},
   "source": [
    "> * Qual a distribuição do número de sets, games e pontos nas Partidas 1 e 2? Mostre uma análise estatística baseada em média e desvio padrão em cada caso.\n"
   ]
  },
  {
   "cell_type": "markdown",
   "metadata": {},
   "source": [
    "Partida 1"
   ]
  },
  {
   "cell_type": "code",
   "execution_count": null,
   "metadata": {},
   "outputs": [],
   "source": [
    "df_advantage = grouped_df.get_group(chances[0])\n",
    "df_advantage.describe()"
   ]
  },
  {
   "cell_type": "code",
   "execution_count": null,
   "metadata": {},
   "outputs": [],
   "source": [
    "sns.boxplot(x=df_advantage[\"tot_pts_P\"])"
   ]
  },
  {
   "cell_type": "code",
   "execution_count": null,
   "metadata": {},
   "outputs": [],
   "source": [
    "sns.boxplot(x=df_advantage[\"tot_games_P\"])"
   ]
  },
  {
   "cell_type": "code",
   "execution_count": null,
   "metadata": {},
   "outputs": [],
   "source": [
    "sns.boxplot(x=df_advantage[\"tot_sets_P\"])"
   ]
  },
  {
   "cell_type": "markdown",
   "metadata": {},
   "source": [
    "Partida 2"
   ]
  },
  {
   "cell_type": "code",
   "execution_count": null,
   "metadata": {},
   "outputs": [],
   "source": [
    "df_fair = grouped_df.get_group(chances[1])\n",
    "df_fair.describe()"
   ]
  },
  {
   "cell_type": "code",
   "execution_count": null,
   "metadata": {},
   "outputs": [],
   "source": [
    "sns.boxplot(x=df_fair[\"tot_pts_P\"])"
   ]
  },
  {
   "cell_type": "code",
   "execution_count": null,
   "metadata": {},
   "outputs": [],
   "source": [
    "sns.boxplot(x=df_fair[\"tot_games_P\"])"
   ]
  },
  {
   "cell_type": "code",
   "execution_count": null,
   "metadata": {},
   "outputs": [],
   "source": [
    "sns.boxplot(x=df_fair[\"tot_sets_P\"])"
   ]
  },
  {
   "cell_type": "markdown",
   "metadata": {},
   "source": [
    "> * Selecione aleatoriamente, com distribuição uniforme, 10 simulações dentre as $n$ existentes em seus datasets originais. Refaça as 2 análises anteriores e explique as diferenças e semelhanças entre os resultados obtidos."
   ]
  }
 ],
 "metadata": {
  "interpreter": {
   "hash": "c416beb703b97d98d6f65f7b701f91210c79e2b33bf897876b653f409427d825"
  },
  "kernelspec": {
   "display_name": "Python 3.10.2 ('markov-chain-tennis-b93xgRbu-py3.10')",
   "language": "python",
   "name": "python3"
  },
  "language_info": {
   "codemirror_mode": {
    "name": "ipython",
    "version": 3
   },
   "file_extension": ".py",
   "mimetype": "text/x-python",
   "name": "python",
   "nbconvert_exporter": "python",
   "pygments_lexer": "ipython3",
   "version": "3.10.2"
  },
  "orig_nbformat": 4
 },
 "nbformat": 4,
 "nbformat_minor": 2
}
