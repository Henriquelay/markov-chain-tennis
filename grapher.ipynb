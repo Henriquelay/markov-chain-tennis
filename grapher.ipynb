{
 "cells": [
  {
   "cell_type": "code",
   "execution_count": 1,
   "metadata": {},
   "outputs": [],
   "source": [
    "import pandas as pd\n",
    "import seaborn as sns\n",
    "\n",
    "sns.set_theme(style=\"whitegrid\")\n",
    "\n",
    "chances = [.7, .45]"
   ]
  },
  {
   "cell_type": "code",
   "execution_count": 2,
   "metadata": {},
   "outputs": [],
   "source": [
    "df = pd.read_csv('out.csv')\n",
    "# Splitting df between \"advantage\" (high chance to win) runs and \"fair\" (~50% chance to win) runs\n",
    "grouped_df = df.groupby(df.P_chance)\n",
    "df_advantage = grouped_df.get_group(chances[0])\n",
    "df_fair = grouped_df.get_group(chances[1])"
   ]
  },
  {
   "cell_type": "markdown",
   "metadata": {},
   "source": [
    "> Ao final das suas simulações, com base nos logs gerados (vamos denominá-los datasets a partir de agora) você deverá analisar os datasets e responder às seguintes perguntas:  \n",
    "> * Qual a probabilidade do Jogador A/B vencerem as Partidas 1 e a Partidas 2? Para responder, considere $Xi$ uma VA que representa o número de vitórias do jogador $i$ em cada caso, e que nosso espaço amostral contem 3 partidas. Mostre uma análise estatística baseada em média e desvio padrão em cada caso.  \n",
    "Com base no dataset, a probabilidade A vencer B é de $\\frac{{media(tot\\_sets\\_P)}}{tam\\_amostra} $. A probabilidade é o complemento a um deste. Selecionando 3 aleatórias, temos que:  \n"
   ]
  },
  {
   "cell_type": "code",
   "execution_count": 3,
   "metadata": {},
   "outputs": [],
   "source": [
    "def P_wins(df):\n",
    "    return len(df[df.tot_sets_P > df.tot_sets_Q].index) # return rows where P beats Q"
   ]
  },
  {
   "cell_type": "code",
   "execution_count": 4,
   "metadata": {},
   "outputs": [
    {
     "name": "stdout",
     "output_type": "stream",
     "text": [
      "Probabilidade para P ganhar quando chance=0.7 com 3 amostras:\t1.0\n",
      "Probabilidade para P ganhar quando chance=0.45 com 3 amostras:\t0.0\n",
      "Probabilidade para P ganhar quando chance=0.7 com todas as 200 amostras:\t1.0\n",
      "Probabilidade para P ganhar quando chance=0.45 com todas as 200 amostras:\t0.085\n"
     ]
    }
   ],
   "source": [
    "sample_size = 3\n",
    "# Partida 1\n",
    "print(f\"Probabilidade para P ganhar quando chance={chances[0]} com {sample_size} amostras:\\t{P_wins(df_advantage.sample(n=sample_size))/sample_size}\")\n",
    "# Partida 2\n",
    "print(f\"Probabilidade para P ganhar quando chance={chances[1]} com {sample_size} amostras:\\t{P_wins(df_fair.sample(n=sample_size))/sample_size}\")\n",
    "\n",
    "# Média com o df inteiro\n",
    "print(f\"Probabilidade para P ganhar quando chance={chances[0]} com todas as {len(df_fair.index)} amostras:\\t{P_wins(df_advantage)/len(df_advantage.index)}\")\n",
    "print(f\"Probabilidade para P ganhar quando chance={chances[1]} com todas as {len(df_fair.index)} amostras:\\t{P_wins(df_fair)/len(df_fair.index)}\")"
   ]
  },
  {
   "cell_type": "markdown",
   "metadata": {},
   "source": [
    "> * Qual a distribuição do número de sets, games e pontos nas Partidas 1 e 2? Mostre uma análise estatística baseada em média e desvio padrão em cada caso.\n"
   ]
  },
  {
   "cell_type": "markdown",
   "metadata": {},
   "source": [
    "Partida 1"
   ]
  },
  {
   "cell_type": "code",
   "execution_count": 5,
   "metadata": {},
   "outputs": [
    {
     "name": "stdout",
     "output_type": "stream",
     "text": [
      "Média de pontos e desvio que P marcou por game:\n",
      "\tVantagem:\t3.3469693190321776\tDesvio:\t4.623720792808456\n",
      "\tJusto:\t\t2.3530919029723267\tDesvio:\t23.917138679471364\n",
      "Média de pontos e desvio que Q marcou por game:\n",
      "\tVantagem:\t1.3694188076827138\tDesvio:\t8.456064399330703\n",
      "\tJusto:\t\t3.059446532285617\tDesvio:\t17.342471177218755\n"
     ]
    },
    {
     "data": {
      "text/html": [
       "<div>\n",
       "<style scoped>\n",
       "    .dataframe tbody tr th:only-of-type {\n",
       "        vertical-align: middle;\n",
       "    }\n",
       "\n",
       "    .dataframe tbody tr th {\n",
       "        vertical-align: top;\n",
       "    }\n",
       "\n",
       "    .dataframe thead th {\n",
       "        text-align: right;\n",
       "    }\n",
       "</style>\n",
       "<table border=\"1\" class=\"dataframe\">\n",
       "  <thead>\n",
       "    <tr style=\"text-align: right;\">\n",
       "      <th></th>\n",
       "      <th>tot_pts_P</th>\n",
       "      <th>tot_pts_Q</th>\n",
       "      <th>tot_games_P</th>\n",
       "      <th>tot_games_Q</th>\n",
       "      <th>tot_sets_P</th>\n",
       "      <th>tot_sets_Q</th>\n",
       "      <th>run</th>\n",
       "      <th>P_chance</th>\n",
       "    </tr>\n",
       "  </thead>\n",
       "  <tbody>\n",
       "    <tr>\n",
       "      <th>count</th>\n",
       "      <td>200.000000</td>\n",
       "      <td>200.000000</td>\n",
       "      <td>200.000000</td>\n",
       "      <td>200.000000</td>\n",
       "      <td>200.0</td>\n",
       "      <td>200.0</td>\n",
       "      <td>200.000000</td>\n",
       "      <td>200.0</td>\n",
       "    </tr>\n",
       "    <tr>\n",
       "      <th>mean</th>\n",
       "      <td>67.090000</td>\n",
       "      <td>27.450000</td>\n",
       "      <td>18.020000</td>\n",
       "      <td>2.025000</td>\n",
       "      <td>2.0</td>\n",
       "      <td>0.0</td>\n",
       "      <td>100.500000</td>\n",
       "      <td>0.7</td>\n",
       "    </tr>\n",
       "    <tr>\n",
       "      <th>std</th>\n",
       "      <td>4.623721</td>\n",
       "      <td>8.456064</td>\n",
       "      <td>0.199497</td>\n",
       "      <td>1.993551</td>\n",
       "      <td>0.0</td>\n",
       "      <td>0.0</td>\n",
       "      <td>57.879185</td>\n",
       "      <td>0.0</td>\n",
       "    </tr>\n",
       "    <tr>\n",
       "      <th>min</th>\n",
       "      <td>60.000000</td>\n",
       "      <td>8.000000</td>\n",
       "      <td>18.000000</td>\n",
       "      <td>0.000000</td>\n",
       "      <td>2.0</td>\n",
       "      <td>0.0</td>\n",
       "      <td>1.000000</td>\n",
       "      <td>0.7</td>\n",
       "    </tr>\n",
       "    <tr>\n",
       "      <th>25%</th>\n",
       "      <td>63.000000</td>\n",
       "      <td>22.000000</td>\n",
       "      <td>18.000000</td>\n",
       "      <td>0.000000</td>\n",
       "      <td>2.0</td>\n",
       "      <td>0.0</td>\n",
       "      <td>50.750000</td>\n",
       "      <td>0.7</td>\n",
       "    </tr>\n",
       "    <tr>\n",
       "      <th>50%</th>\n",
       "      <td>67.000000</td>\n",
       "      <td>27.000000</td>\n",
       "      <td>18.000000</td>\n",
       "      <td>2.000000</td>\n",
       "      <td>2.0</td>\n",
       "      <td>0.0</td>\n",
       "      <td>100.500000</td>\n",
       "      <td>0.7</td>\n",
       "    </tr>\n",
       "    <tr>\n",
       "      <th>75%</th>\n",
       "      <td>70.000000</td>\n",
       "      <td>33.000000</td>\n",
       "      <td>18.000000</td>\n",
       "      <td>3.000000</td>\n",
       "      <td>2.0</td>\n",
       "      <td>0.0</td>\n",
       "      <td>150.250000</td>\n",
       "      <td>0.7</td>\n",
       "    </tr>\n",
       "    <tr>\n",
       "      <th>max</th>\n",
       "      <td>84.000000</td>\n",
       "      <td>53.000000</td>\n",
       "      <td>20.000000</td>\n",
       "      <td>11.000000</td>\n",
       "      <td>2.0</td>\n",
       "      <td>0.0</td>\n",
       "      <td>200.000000</td>\n",
       "      <td>0.7</td>\n",
       "    </tr>\n",
       "  </tbody>\n",
       "</table>\n",
       "</div>"
      ],
      "text/plain": [
       "        tot_pts_P   tot_pts_Q  tot_games_P  tot_games_Q  tot_sets_P  \\\n",
       "count  200.000000  200.000000   200.000000   200.000000       200.0   \n",
       "mean    67.090000   27.450000    18.020000     2.025000         2.0   \n",
       "std      4.623721    8.456064     0.199497     1.993551         0.0   \n",
       "min     60.000000    8.000000    18.000000     0.000000         2.0   \n",
       "25%     63.000000   22.000000    18.000000     0.000000         2.0   \n",
       "50%     67.000000   27.000000    18.000000     2.000000         2.0   \n",
       "75%     70.000000   33.000000    18.000000     3.000000         2.0   \n",
       "max     84.000000   53.000000    20.000000    11.000000         2.0   \n",
       "\n",
       "       tot_sets_Q         run  P_chance  \n",
       "count       200.0  200.000000     200.0  \n",
       "mean          0.0  100.500000       0.7  \n",
       "std           0.0   57.879185       0.0  \n",
       "min           0.0    1.000000       0.7  \n",
       "25%           0.0   50.750000       0.7  \n",
       "50%           0.0  100.500000       0.7  \n",
       "75%           0.0  150.250000       0.7  \n",
       "max           0.0  200.000000       0.7  "
      ]
     },
     "execution_count": 5,
     "metadata": {},
     "output_type": "execute_result"
    }
   ],
   "source": [
    "played_games_advantage = df_advantage[\"tot_games_P\"].sum(\n",
    ") + df_advantage[\"tot_games_Q\"].sum()\n",
    "played_games_fair = df_fair[\"tot_games_P\"].sum() + df_fair[\"tot_games_Q\"].sum()\n",
    "\n",
    "mean_P_pts_per_game = [\n",
    "    [\n",
    "        df_advantage[\"tot_pts_P\"].sum()/played_games_advantage,\n",
    "        df_advantage[\"tot_pts_P\"].std()\n",
    "    ],\n",
    "    [\n",
    "        df_fair[\"tot_pts_P\"].sum()/played_games_fair,\n",
    "        df_fair[\"tot_pts_P\"].std()\n",
    "    ]\n",
    "]\n",
    "print(\n",
    "    f\"Média de pontos e desvio que P marcou por game:\\n\\tVantagem:\\t{mean_P_pts_per_game[0][0]}\\tDesvio:\\t{mean_P_pts_per_game[0][1]}\\n\\tJusto:\\t\\t{mean_P_pts_per_game[1][0]}\\tDesvio:\\t{mean_P_pts_per_game[1][1]}\")\n",
    "\n",
    "mean_Q_pts_per_game = [\n",
    "    [\n",
    "        df_advantage[\"tot_pts_Q\"].sum()/played_games_advantage,\n",
    "        df_advantage[\"tot_pts_Q\"].std()\n",
    "    ],\n",
    "    [\n",
    "        df_fair[\"tot_pts_Q\"].sum()/played_games_fair,\n",
    "        df_fair[\"tot_pts_Q\"].std()\n",
    "    ]\n",
    "]\n",
    "print(\n",
    "    f\"Média de pontos e desvio que Q marcou por game:\\n\\tVantagem:\\t{mean_Q_pts_per_game[0][0]}\\tDesvio:\\t{mean_Q_pts_per_game[0][1]}\\n\\tJusto:\\t\\t{mean_Q_pts_per_game[1][0]}\\tDesvio:\\t{mean_Q_pts_per_game[1][1]}\")\n",
    "\n",
    "df_advantage.describe()\n"
   ]
  },
  {
   "cell_type": "code",
   "execution_count": 6,
   "metadata": {},
   "outputs": [
    {
     "data": {
      "text/plain": [
       "<AxesSubplot:xlabel='tot_pts_P'>"
      ]
     },
     "execution_count": 6,
     "metadata": {},
     "output_type": "execute_result"
    },
    {
     "data": {
      "image/png": "[encoded data removed]",
      "text/plain": [
       "<Figure size 432x288 with 1 Axes>"
      ]
     },
     "metadata": {},
     "output_type": "display_data"
    }
   ],
   "source": [
    "sns.boxplot(x=df_advantage[\"tot_pts_P\"])"
   ]
  },
  {
   "cell_type": "code",
   "execution_count": 7,
   "metadata": {},
   "outputs": [
    {
     "data": {
      "text/plain": [
       "<AxesSubplot:xlabel='tot_games_P'>"
      ]
     },
     "execution_count": 7,
     "metadata": {},
     "output_type": "execute_result"
    },
    {
     "data": {
      "image/png": "[encoded data removed]",
      "text/plain": [
       "<Figure size 432x288 with 1 Axes>"
      ]
     },
     "metadata": {},
     "output_type": "display_data"
    }
   ],
   "source": [
    "sns.boxplot(x=df_advantage[\"tot_games_P\"])"
   ]
  },
  {
   "cell_type": "code",
   "execution_count": 8,
   "metadata": {},
   "outputs": [
    {
     "data": {
      "text/plain": [
       "<AxesSubplot:xlabel='tot_sets_P'>"
      ]
     },
     "execution_count": 8,
     "metadata": {},
     "output_type": "execute_result"
    },
    {
     "data": {
      "image/png": "[encoded data removed]",
      "text/plain": [
       "<Figure size 432x288 with 1 Axes>"
      ]
     },
     "metadata": {},
     "output_type": "display_data"
    }
   ],
   "source": [
    "sns.boxplot(x=df_advantage[\"tot_sets_P\"])"
   ]
  },
  {
   "cell_type": "markdown",
   "metadata": {},
   "source": [
    "Partida 2"
   ]
  },
  {
   "cell_type": "code",
   "execution_count": 9,
   "metadata": {},
   "outputs": [
    {
     "data": {
      "text/html": [
       "<div>\n",
       "<style scoped>\n",
       "    .dataframe tbody tr th:only-of-type {\n",
       "        vertical-align: middle;\n",
       "    }\n",
       "\n",
       "    .dataframe tbody tr th {\n",
       "        vertical-align: top;\n",
       "    }\n",
       "\n",
       "    .dataframe thead th {\n",
       "        text-align: right;\n",
       "    }\n",
       "</style>\n",
       "<table border=\"1\" class=\"dataframe\">\n",
       "  <thead>\n",
       "    <tr style=\"text-align: right;\">\n",
       "      <th></th>\n",
       "      <th>tot_pts_P</th>\n",
       "      <th>tot_pts_Q</th>\n",
       "      <th>tot_games_P</th>\n",
       "      <th>tot_games_Q</th>\n",
       "      <th>tot_sets_P</th>\n",
       "      <th>tot_sets_Q</th>\n",
       "      <th>run</th>\n",
       "      <th>P_chance</th>\n",
       "    </tr>\n",
       "  </thead>\n",
       "  <tbody>\n",
       "    <tr>\n",
       "      <th>count</th>\n",
       "      <td>200.000000</td>\n",
       "      <td>200.000000</td>\n",
       "      <td>200.000000</td>\n",
       "      <td>200.000000</td>\n",
       "      <td>200.00000</td>\n",
       "      <td>200.000000</td>\n",
       "      <td>200.000000</td>\n",
       "      <td>2.000000e+02</td>\n",
       "    </tr>\n",
       "    <tr>\n",
       "      <th>mean</th>\n",
       "      <td>68.875000</td>\n",
       "      <td>89.550000</td>\n",
       "      <td>10.345000</td>\n",
       "      <td>18.925000</td>\n",
       "      <td>0.38500</td>\n",
       "      <td>1.880000</td>\n",
       "      <td>100.500000</td>\n",
       "      <td>4.500000e-01</td>\n",
       "    </tr>\n",
       "    <tr>\n",
       "      <th>std</th>\n",
       "      <td>23.917139</td>\n",
       "      <td>17.342471</td>\n",
       "      <td>5.188504</td>\n",
       "      <td>2.384914</td>\n",
       "      <td>0.63939</td>\n",
       "      <td>0.420098</td>\n",
       "      <td>57.879185</td>\n",
       "      <td>1.113009e-16</td>\n",
       "    </tr>\n",
       "    <tr>\n",
       "      <th>min</th>\n",
       "      <td>28.000000</td>\n",
       "      <td>55.000000</td>\n",
       "      <td>0.000000</td>\n",
       "      <td>9.000000</td>\n",
       "      <td>0.00000</td>\n",
       "      <td>0.000000</td>\n",
       "      <td>1.000000</td>\n",
       "      <td>4.500000e-01</td>\n",
       "    </tr>\n",
       "    <tr>\n",
       "      <th>25%</th>\n",
       "      <td>51.000000</td>\n",
       "      <td>76.000000</td>\n",
       "      <td>6.000000</td>\n",
       "      <td>18.000000</td>\n",
       "      <td>0.00000</td>\n",
       "      <td>2.000000</td>\n",
       "      <td>50.750000</td>\n",
       "      <td>4.500000e-01</td>\n",
       "    </tr>\n",
       "    <tr>\n",
       "      <th>50%</th>\n",
       "      <td>65.000000</td>\n",
       "      <td>86.000000</td>\n",
       "      <td>10.000000</td>\n",
       "      <td>18.000000</td>\n",
       "      <td>0.00000</td>\n",
       "      <td>2.000000</td>\n",
       "      <td>100.500000</td>\n",
       "      <td>4.500000e-01</td>\n",
       "    </tr>\n",
       "    <tr>\n",
       "      <th>75%</th>\n",
       "      <td>86.250000</td>\n",
       "      <td>101.250000</td>\n",
       "      <td>14.000000</td>\n",
       "      <td>20.000000</td>\n",
       "      <td>1.00000</td>\n",
       "      <td>2.000000</td>\n",
       "      <td>150.250000</td>\n",
       "      <td>4.500000e-01</td>\n",
       "    </tr>\n",
       "    <tr>\n",
       "      <th>max</th>\n",
       "      <td>135.000000</td>\n",
       "      <td>149.000000</td>\n",
       "      <td>24.000000</td>\n",
       "      <td>25.000000</td>\n",
       "      <td>2.00000</td>\n",
       "      <td>2.000000</td>\n",
       "      <td>200.000000</td>\n",
       "      <td>4.500000e-01</td>\n",
       "    </tr>\n",
       "  </tbody>\n",
       "</table>\n",
       "</div>"
      ],
      "text/plain": [
       "        tot_pts_P   tot_pts_Q  tot_games_P  tot_games_Q  tot_sets_P  \\\n",
       "count  200.000000  200.000000   200.000000   200.000000   200.00000   \n",
       "mean    68.875000   89.550000    10.345000    18.925000     0.38500   \n",
       "std     23.917139   17.342471     5.188504     2.384914     0.63939   \n",
       "min     28.000000   55.000000     0.000000     9.000000     0.00000   \n",
       "25%     51.000000   76.000000     6.000000    18.000000     0.00000   \n",
       "50%     65.000000   86.000000    10.000000    18.000000     0.00000   \n",
       "75%     86.250000  101.250000    14.000000    20.000000     1.00000   \n",
       "max    135.000000  149.000000    24.000000    25.000000     2.00000   \n",
       "\n",
       "       tot_sets_Q         run      P_chance  \n",
       "count  200.000000  200.000000  2.000000e+02  \n",
       "mean     1.880000  100.500000  4.500000e-01  \n",
       "std      0.420098   57.879185  1.113009e-16  \n",
       "min      0.000000    1.000000  4.500000e-01  \n",
       "25%      2.000000   50.750000  4.500000e-01  \n",
       "50%      2.000000  100.500000  4.500000e-01  \n",
       "75%      2.000000  150.250000  4.500000e-01  \n",
       "max      2.000000  200.000000  4.500000e-01  "
      ]
     },
     "execution_count": 9,
     "metadata": {},
     "output_type": "execute_result"
    }
   ],
   "source": [
    "df_fair.describe()"
   ]
  },
  {
   "cell_type": "code",
   "execution_count": 10,
   "metadata": {},
   "outputs": [
    {
     "data": {
      "text/plain": [
       "<AxesSubplot:xlabel='tot_pts_P'>"
      ]
     },
     "execution_count": 10,
     "metadata": {},
     "output_type": "execute_result"
    },
    {
     "data": {
      "image/png": "[encoded data removed]",
      "text/plain": [
       "<Figure size 432x288 with 1 Axes>"
      ]
     },
     "metadata": {},
     "output_type": "display_data"
    }
   ],
   "source": [
    "sns.boxplot(x=df_fair[\"tot_pts_P\"])"
   ]
  },
  {
   "cell_type": "code",
   "execution_count": 11,
   "metadata": {},
   "outputs": [
    {
     "data": {
      "text/plain": [
       "<AxesSubplot:xlabel='tot_games_P'>"
      ]
     },
     "execution_count": 11,
     "metadata": {},
     "output_type": "execute_result"
    },
    {
     "data": {
      "image/png": "[encoded data removed]",
      "text/plain": [
       "<Figure size 432x288 with 1 Axes>"
      ]
     },
     "metadata": {},
     "output_type": "display_data"
    }
   ],
   "source": [
    "sns.boxplot(x=df_fair[\"tot_games_P\"])"
   ]
  },
  {
   "cell_type": "code",
   "execution_count": 12,
   "metadata": {},
   "outputs": [
    {
     "data": {
      "text/plain": [
       "<AxesSubplot:xlabel='tot_sets_P'>"
      ]
     },
     "execution_count": 12,
     "metadata": {},
     "output_type": "execute_result"
    },
    {
     "data": {
      "image/png": "[encoded data removed]",
      "text/plain": [
       "<Figure size 432x288 with 1 Axes>"
      ]
     },
     "metadata": {},
     "output_type": "display_data"
    }
   ],
   "source": [
    "sns.boxplot(x=df_fair[\"tot_sets_P\"])"
   ]
  },
  {
   "cell_type": "markdown",
   "metadata": {},
   "source": [
    "> * Selecione aleatoriamente, com distribuição uniforme, 10 simulações dentre as $n$ existentes em seus datasets originais. Refaça as 2 análises anteriores e explique as diferenças e semelhanças entre os resultados obtidos."
   ]
  },
  {
   "cell_type": "code",
   "execution_count": 13,
   "metadata": {},
   "outputs": [
    {
     "name": "stdout",
     "output_type": "stream",
     "text": [
      "Probabilidade para P ganhar quando chance=0.7 com 10 amostras:\t1.0\n",
      "Probabilidade para P ganhar quando chance=0.45 com 10 amostras:\t0.1\n",
      "Probabilidade para P ganhar quando chance=0.7 com todas as 200 amostras:\t1.0\n",
      "Probabilidade para P ganhar quando chance=0.45 com todas as 200 amostras:\t0.085\n"
     ]
    }
   ],
   "source": [
    "sample_size = 10\n",
    "# Partida 1\n",
    "print(f\"Probabilidade para P ganhar quando chance={chances[0]} com {sample_size} amostras:\\t{P_wins(df_advantage.sample(n=sample_size))/sample_size}\")\n",
    "# Partida 2\n",
    "print(f\"Probabilidade para P ganhar quando chance={chances[1]} com {sample_size} amostras:\\t{P_wins(df_fair.sample(n=sample_size))/sample_size}\")\n",
    "\n",
    "# Média com o df inteiro\n",
    "print(f\"Probabilidade para P ganhar quando chance={chances[0]} com todas as {len(df_fair.index)} amostras:\\t{P_wins(df_advantage)/len(df_advantage.index)}\")\n",
    "print(f\"Probabilidade para P ganhar quando chance={chances[1]} com todas as {len(df_fair.index)} amostras:\\t{P_wins(df_fair)/len(df_fair.index)}\")"
   ]
  }
 ],
 "metadata": {
  "interpreter": {
   "hash": "c416beb703b97d98d6f65f7b701f91210c79e2b33bf897876b653f409427d825"
  },
  "kernelspec": {
   "display_name": "Python 3.10.2 ('markov-chain-tennis-b93xgRbu-py3.10')",
   "language": "python",
   "name": "python3"
  },
  "language_info": {
   "codemirror_mode": {
    "name": "ipython",
    "version": 3
   },
   "file_extension": ".py",
   "mimetype": "text/x-python",
   "name": "python",
   "nbconvert_exporter": "python",
   "pygments_lexer": "ipython3",
   "version": "3.10.2"
  },
  "orig_nbformat": 4
 },
 "nbformat": 4,
 "nbformat_minor": 2
}
